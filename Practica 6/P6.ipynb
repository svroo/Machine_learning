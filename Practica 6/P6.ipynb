{
 "cells": [
  {
   "cell_type": "code",
   "execution_count": 1,
   "metadata": {},
   "outputs": [],
   "source": [
    "# from ejemplo_py para practica 6\n",
    "import pandas as pd\n",
    "from sklearn.model_selection import train_test_split\n",
    "from sklearn.naive_bayes import GaussianNB\n",
    "from sklearn.naive_bayes import MultinomialNB\n",
    "from sklearn.metrics import accuracy_score\n",
    "from sklearn.metrics import classification_report\n",
    "from sklearn.metrics import confusion_matrix, ConfusionMatrixDisplay\n",
    "\n",
    "# from practica de k pliegues\n",
    "from sklearn.model_selection import KFold\n",
    "import numpy as np\n",
    "import sys\n",
    "import pickle\n",
    "import csv\n",
    "import os"
   ]
  },
  {
   "cell_type": "code",
   "execution_count": 2,
   "metadata": {},
   "outputs": [],
   "source": [
    "class validation_set:\n",
    "    def __init__(self, X_train, y_train, X_test, y_test):\n",
    "        self.X_train = X_train\n",
    "        self.y_train = y_train\n",
    "        self.X_test = X_test\n",
    "        self.y_test = y_test"
   ]
  },
  {
   "cell_type": "code",
   "execution_count": 3,
   "metadata": {},
   "outputs": [],
   "source": [
    "class test_set:\n",
    "    def __init__(self, X_test, y_test):\n",
    "        self.X_test = X_test\n",
    "        self.y_test = y_test"
   ]
  },
  {
   "cell_type": "code",
   "execution_count": 4,
   "metadata": {},
   "outputs": [],
   "source": [
    "class data_set:\n",
    "    def __init__(self, validation_set, test_set):\n",
    "        self.validation_set = validation_set\n",
    "        self.test_set = test_set"
   ]
  },
  {
   "cell_type": "code",
   "execution_count": 5,
   "metadata": {},
   "outputs": [],
   "source": [
    "def create_csv(name_file, data, col_names, list_opt = False):\n",
    "    new_data = data.tolist()\n",
    "\n",
    "    with open(name_file, 'w', newline='') as f:\n",
    "        if list_opt:\n",
    "            new_new_data = [[i] for i in new_data]\n",
    "        else:\n",
    "            new_new_data = new_data\n",
    "        # using csv.writer method from CSV package\n",
    "        write = csv.writer(f)\n",
    "        write.writerow(col_names)\n",
    "        write.writerows(new_new_data)"
   ]
  },
  {
   "cell_type": "code",
   "execution_count": 9,
   "metadata": {},
   "outputs": [],
   "source": [
    "def pliegues_validacion(file_name, pliegues, folder):\n",
    "  # url = 'https://firebasestorage.googleapis.com/v0/b/portafoliowebsite.appspot.com/o/Notas%20Amatsu%2Fcal_housing.csv?alt=media&token=476a6d9d-ca90-42ba-9ab6-1dbfd9babdea'\n",
    "#   file_name = './dataset/cal_housing.csv'\n",
    "  df = pd.read_csv(file_name, sep = ',', engine = 'python')\n",
    "  columns_names = list(df.columns)\n",
    "  n = len(columns_names) -1\n",
    "\n",
    "  # corpus\n",
    "  X = df.drop(columns_names[:n - 1], axis = 1).values\n",
    "  # target\n",
    "  y = df[columns_names[n]].values\n",
    "    \n",
    "  #Separa corpus en conjunto de entrenamiento y prueba\n",
    "  X_train, X_test, y_train, y_test = train_test_split(X, y, test_size=0.7, shuffle = True, random_state=0)\n",
    "\n",
    "  validation_sets = []\n",
    "\n",
    "  # Número de pliegues\n",
    "  kf = KFold(n_splits=pliegues)\n",
    "  c = 0\n",
    "\n",
    "  for train_index, test_index in kf.split(X_train):\n",
    "    c = c + 1\n",
    "    i = 1\n",
    "    X_train_v, X_test_v = X_train.iloc[train_index], X_train.iloc[test_index]\n",
    "    y_train_v, y_test_v = y_train.iloc[train_index], y_train.iloc[test_index]\n",
    "    \n",
    "    #Agrega el pliegue creado a la lista\n",
    "    validation_sets.append(validation_set(X_train_v, y_train_v, X_test_v, y_test_v))\n",
    "\n",
    "    #Almacena el conjunto de prueba\n",
    "    my_test_set = test_set(X_test, y_test)\t\n",
    "      \n",
    "    #Guarda el dataset con los pliegues del conjunto de validación y el conjunto de pruebas\n",
    "    my_data_set = data_set(validation_sets, my_test_set)\n",
    "\n",
    "    my_data_set.test_set.X_test.to_csv(folder + 'data_test.csv', index = False)\n",
    "    my_data_set.test_set.y_test.to_csv(folder + 'target_test.csv', index = False)\n",
    "\n",
    "    cad_pliegues = str(pliegues) + '_'\n",
    "\n",
    "    for val_set in my_data_set.validation_set:\n",
    "      cad_i = str(i)\n",
    "      val_set.X_train.to_csv(folder + 'data_validation_train_'+ cad_pliegues + cad_i + '.csv', index = False)\n",
    "      val_set.y_train.to_csv(folder + 'target_validation_train_'+ cad_pliegues + cad_i+ '.csv', index = False)\n",
    "      val_set.X_test.to_csv(folder + 'data_test_'+ cad_pliegues + cad_i+ '.csv', index = False)\n",
    "      val_set.y_test.to_csv(folder + 'target_test_'+ cad_pliegues + cad_i + '.csv', index = False)\n",
    "      i = i + 1\n",
    "  print(f'Terminado los {pliegues} pliegues')"
   ]
  },
  {
   "cell_type": "code",
   "execution_count": 10,
   "metadata": {},
   "outputs": [],
   "source": [
    "data = generate_train_test('./datasets/emails.csv')"
   ]
  },
  {
   "cell_type": "code",
   "execution_count": null,
   "metadata": {},
   "outputs": [],
   "source": [
    "k = 10\n",
    "path = 'pliegues_email/'\n",
    "pliegues_validacion('./datasets/emails.csv', k, path)"
   ]
  },
  {
   "cell_type": "code",
   "execution_count": null,
   "metadata": {},
   "outputs": [],
   "source": [
    "name_files = os.listdir('pliegues_email/')"
   ]
  },
  {
   "cell_type": "code",
   "execution_count": null,
   "metadata": {},
   "outputs": [],
   "source": [
    "data_train = list(filter(lambda x: x.startswith('data_validation_train'), name_files))\n",
    "target_train = list(filter(lambda x: x.startswith('target_validation_train'), name_files))\n",
    "print(len(data_train), len(target_train))"
   ]
  },
  {
   "cell_type": "code",
   "execution_count": null,
   "metadata": {},
   "outputs": [],
   "source": [
    "def main():\n",
    "    for i, file in enumerate(data_train):\n",
    "        print()"
   ]
  }
 ],
 "metadata": {
  "kernelspec": {
   "display_name": "Python 3.9.12 ('base')",
   "language": "python",
   "name": "python3"
  },
  "language_info": {
   "codemirror_mode": {
    "name": "ipython",
    "version": 3
   },
   "file_extension": ".py",
   "mimetype": "text/x-python",
   "name": "python",
   "nbconvert_exporter": "python",
   "pygments_lexer": "ipython3",
   "version": "3.9.12"
  },
  "orig_nbformat": 4,
  "vscode": {
   "interpreter": {
    "hash": "b302cdd1e032ee910f5c889c3360c28564c92ad4f326fc3102e39fbe47faee66"
   }
  }
 },
 "nbformat": 4,
 "nbformat_minor": 2
}
