{
 "cells": [
  {
   "cell_type": "markdown",
   "id": "9eb4e0a9",
   "metadata": {},
   "source": [
    "## Practica 2\n",
    "Salazar Vega Rodrigo"
   ]
  },
  {
   "cell_type": "code",
   "execution_count": 1,
   "id": "602d9543",
   "metadata": {},
   "outputs": [],
   "source": [
    "import pandas as pd\n",
    "from sklearn.model_selection import train_test_split\n",
    "from sklearn.model_selection import KFold\n",
    "import numpy as np\n",
    "import sys\n",
    "import pickle\n",
    "import csv"
   ]
  },
  {
   "cell_type": "code",
   "execution_count": 2,
   "id": "0f829852",
   "metadata": {},
   "outputs": [],
   "source": [
    "class validation_set:\n",
    "    def __init__(self, X_train, y_train, X_test, y_test):\n",
    "        self.X_train = X_train\n",
    "        self.y_train = y_train\n",
    "        self.X_test = X_test\n",
    "        self.y_test = y_test"
   ]
  },
  {
   "cell_type": "code",
   "execution_count": 3,
   "id": "b0886d99",
   "metadata": {},
   "outputs": [],
   "source": [
    "class test_set:\n",
    "    def __init__(self, X_test, y_test):\n",
    "        self.X_test = X_test\n",
    "        self.y_test = y_test\n"
   ]
  },
  {
   "cell_type": "code",
   "execution_count": 4,
   "id": "0920b7cc",
   "metadata": {},
   "outputs": [],
   "source": [
    "class data_set:\n",
    "    def __init__(self, validation_set, test_set):\n",
    "        self.validation_set = validation_set\n",
    "        self.test_set = test_set"
   ]
  },
  {
   "cell_type": "code",
   "execution_count": 5,
   "id": "8086985f",
   "metadata": {},
   "outputs": [],
   "source": [
    "def create_csv(name_file, data, col_names, list_opt = False):\n",
    "    new_data = data.tolist()\n",
    "\n",
    "    with open(name_file, 'w', newline='') as f:\n",
    "        if list_opt:\n",
    "            new_new_data = [[i] for i in new_data]\n",
    "        else:\n",
    "            new_new_data = new_data\n",
    "        # using csv.writer method from CSV package\n",
    "        write = csv.writer(f)\n",
    "        write.writerow(col_names)\n",
    "        write.writerows(new_new_data)"
   ]
  },
  {
   "cell_type": "code",
   "execution_count": 6,
   "id": "07e5cf89",
   "metadata": {},
   "outputs": [],
   "source": [
    "def generate_train_test(file_name):\n",
    "    df = pd.read_csv(file_name, sep = ',', engine = 'python')\n",
    "    X = df.drop('RainTomorrow', axis = 1).values\n",
    "    y = df['RainTomorrow'].values\n",
    "    columns_names = list(df.columns)\n",
    "    X_train, X_test, y_train, y_test = train_test_split(X, y, test_size=0.2, shuffle = True)\n",
    "    X_columns = columns_names[:len(columns_names) - 1]\n",
    "    y_columns = columns_names[len(columns_names) - 1:]\n",
    "    return [X_train, y_train, X_test, y_test, X_columns, y_columns]"
   ]
  },
  {
   "cell_type": "code",
   "execution_count": 7,
   "id": "b7dd36b9",
   "metadata": {
    "scrolled": true
   },
   "outputs": [],
   "source": [
    "def generate_folds(data, k):\n",
    "    X_train = data[0]\n",
    "    y_train = data[1]\n",
    "    X_test = data[2]\n",
    "    y_test = data[3]\n",
    "    X_columns = data[4]\n",
    "    y_columns = data[5]\n",
    "    print('Validación Cruzada k =', k)\n",
    "    validation_sets = []\n",
    "    kf = KFold(n_splits = k)\n",
    "    c = 0\n",
    "    for train_index, test_index in kf.split(X_train):\n",
    "        c = c + 1\n",
    "        X_train_v, X_test_v = X_train[train_index], X_train[test_index]\n",
    "        y_train_v, y_test_v = y_train[train_index], y_train[test_index]\n",
    "        validation_sets.append(validation_set(X_train_v, y_train_v, X_test_v, y_test_v))\n",
    "        create_csv(name_file ='./k'+ str(k)+'/data_validation_train_k' + str(k)+ '_'+str(c)+'.csv', \n",
    "                    data = X_train_v, col_names = X_columns)\n",
    "        create_csv(name_file = './k'+ str(k) +'/data_test_k'+ str(k) + '_' + str(c) + '.csv', \n",
    "                    data = X_test_v, col_names = X_columns)\n",
    "        create_csv(name_file = './k'+ str(k) + '/target_validation_train_k' + str(k) + '_' + str(c) + '.csv', \n",
    "                    data = y_train_v, col_names = y_columns, list_opt = True)\n",
    "        create_csv(name_file = './k'+str(k)+'/target_test_k'+str(k)+'_'+str(c)+'.csv', \n",
    "                    data = y_test_v, col_names = y_columns, list_opt = True)        \n",
    "    my_test_set = test_set(X_test, y_test)\n",
    "    my_data_set = data_set(validation_sets, my_test_set) \n",
    "    return (my_data_set)"
   ]
  },
  {
   "cell_type": "code",
   "execution_count": 8,
   "id": "ca714ba3",
   "metadata": {},
   "outputs": [],
   "source": [
    "data = generate_train_test('./dataset/weatherAUS.csv')"
   ]
  },
  {
   "cell_type": "code",
   "execution_count": 9,
   "id": "20b327c2",
   "metadata": {
    "scrolled": false
   },
   "outputs": [
    {
     "name": "stdout",
     "output_type": "stream",
     "text": [
      "Validación Cruzada k = 3\n",
      "Completo..\n",
      "Validación Cruzada k = 5\n",
      "Completo..\n",
      "Validación Cruzada k = 10\n",
      "Completo..\n"
     ]
    }
   ],
   "source": [
    "ks = [3, 5, 10]\n",
    "for k in ks:\n",
    "    new_data = generate_folds(data,k)\n",
    "    # guardamos en pickle \n",
    "    dataset_file = open('./k'+str(k)+'/data_s'+str(k)+'.pkl','wb')\n",
    "    pickle.dump(new_data, dataset_file)\n",
    "    dataset_file.close()\n",
    "    print('Completo..')"
   ]
  },
  {
   "cell_type": "code",
   "execution_count": 10,
   "id": "d72f482f",
   "metadata": {},
   "outputs": [],
   "source": [
    "create_csv(name_file=\"./data_test.csv\", data= new_data.test_set.X_test, col_names= data[4])\n",
    "create_csv(name_file=\"./target_test.csv\", data = new_data.test_set.y_test, col_names= data[5], list_opt=True)"
   ]
  }
 ],
 "metadata": {
  "kernelspec": {
   "display_name": "Python 3 (ipykernel)",
   "language": "python",
   "name": "python3"
  },
  "language_info": {
   "codemirror_mode": {
    "name": "ipython",
    "version": 3
   },
   "file_extension": ".py",
   "mimetype": "text/x-python",
   "name": "python",
   "nbconvert_exporter": "python",
   "pygments_lexer": "ipython3",
   "version": "3.9.13"
  },
  "vscode": {
   "interpreter": {
    "hash": "63963b3f4c440940f0b94a3100916033a226cb4f45979123153792d60aa56d6a"
   }
  }
 },
 "nbformat": 4,
 "nbformat_minor": 5
}
