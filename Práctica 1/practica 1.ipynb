{
 "cells": [
  {
   "cell_type": "code",
   "execution_count": 1,
   "id": "3d61a0d3",
   "metadata": {},
   "outputs": [],
   "source": [
    "import pandas as pd\n",
    "import numpy as np\n",
    "from sklearn.model_selection import train_test_split"
   ]
  },
  {
   "cell_type": "code",
   "execution_count": 2,
   "id": "daa2e66b",
   "metadata": {},
   "outputs": [],
   "source": [
    "# Leemos y separamos en X, y\n",
    "data = pd.read_csv(filepath_or_buffer='./dataset/heart.csv', sep=',', engine='python')\n",
    "\n",
    "X = data.drop('target',axis=1).values\n",
    "y = data['target']\n",
    "columns = list(data.columns)\n",
    "x_columns = columns[:len(columns)-1]\n",
    "y_columns = columns[len(columns) -1]"
   ]
  },
  {
   "cell_type": "code",
   "execution_count": 3,
   "id": "7bda3972",
   "metadata": {},
   "outputs": [],
   "source": [
    "# Separamos los datos de entrenamiento y prueba\n",
    "x_e, x_p, y_e, y_p = train_test_split(X, y, test_size=0.4, shuffle = False)"
   ]
  },
  {
   "cell_type": "code",
   "execution_count": 4,
   "id": "9e2da3b3",
   "metadata": {},
   "outputs": [],
   "source": [
    "# Guardamos los datos en archivos csv\n",
    "x_data_e = pd.DataFrame(x_e, columns=list(x_columns))\n",
    "x_data_e.to_csv('./datos corazon/entrenamiento/x_etrenamiento.csv', index=False)\n",
    "\n",
    "x_data_p = pd.DataFrame(x_p, columns=list(x_columns))\n",
    "x_data_p.to_csv('./datos corazon/prueba/x_prueba.csv', index = False)\n",
    "\n",
    "y_data_e = pd.DataFrame(y_e)\n",
    "y_data_e.to_csv('./datos corazon/entrenamiento/y_entrenamiento.csv', index=False)\n",
    "\n",
    "y_data_p = pd.DataFrame(y_p)\n",
    "y_data_p.to_csv('./datos corazon/prueba/y_prueba.csv',index=False)"
   ]
  }
 ],
 "metadata": {
  "kernelspec": {
   "display_name": "Python 3 (ipykernel)",
   "language": "python",
   "name": "python3"
  },
  "language_info": {
   "codemirror_mode": {
    "name": "ipython",
    "version": 3
   },
   "file_extension": ".py",
   "mimetype": "text/x-python",
   "name": "python",
   "nbconvert_exporter": "python",
   "pygments_lexer": "ipython3",
   "version": "3.9.12"
  },
  "vscode": {
   "interpreter": {
    "hash": "63963b3f4c440940f0b94a3100916033a226cb4f45979123153792d60aa56d6a"
   }
  }
 },
 "nbformat": 4,
 "nbformat_minor": 5
}
