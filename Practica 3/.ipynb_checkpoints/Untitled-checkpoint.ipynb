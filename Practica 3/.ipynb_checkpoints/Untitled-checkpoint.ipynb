{
 "cells": [
  {
   "cell_type": "code",
   "execution_count": 2,
   "id": "57e85b9f",
   "metadata": {},
   "outputs": [],
   "source": [
    "import pandas as pd\n",
    "from sklearn.model_selection import train_test_split\n",
    "import matplotlib.pyplot as plt\n",
    "import sys"
   ]
  },
  {
   "cell_type": "code",
   "execution_count": 3,
   "id": "78333211",
   "metadata": {},
   "outputs": [],
   "source": [
    "def F(w, X, y):\n",
    "    return sum((w * x - y)**2 for x, y in zip(X, y))/len(y)\n",
    "\n",
    "\n",
    "def dF(w, X, y):\n",
    "    return sum(2*(w * x - y) * x for x, y in zip(X, y))/len(y)"
   ]
  },
  {
   "cell_type": "code",
   "execution_count": 4,
   "id": "5e6dd119",
   "metadata": {},
   "outputs": [],
   "source": [
    "def load_dataset(path):\n",
    "#     cargamos dataset\n",
    "    data = pd.read_csv(path)\n",
    "    # dividimos en x,y\n",
    "    x = data['size']\n",
    "    y = data['price']\n",
    "    X_train, X_test, y_train, y_test = train_test_split(X, y, test_size=0.1, shuffle = True, set random_state=0)\n",
    "    return "
   ]
  },
  {
   "cell_type": "code",
   "execution_count": 5,
   "id": "e2f5deac",
   "metadata": {},
   "outputs": [],
   "source": [
    "[x,y] = load_dataset('./dataset/dataset_ejercicio_I_regresion_lineal.csv')"
   ]
  },
  {
   "cell_type": "code",
   "execution_count": 6,
   "id": "824afe51",
   "metadata": {},
   "outputs": [
    {
     "data": {
      "text/plain": [
       "0      65\n",
       "1     150\n",
       "2     120\n",
       "3     250\n",
       "4      70\n",
       "5     180\n",
       "6     130\n",
       "7     200\n",
       "8     150\n",
       "9     100\n",
       "10    230\n",
       "11    140\n",
       "12     80\n",
       "13    240\n",
       "14     90\n",
       "Name: size, dtype: int64"
      ]
     },
     "execution_count": 6,
     "metadata": {},
     "output_type": "execute_result"
    }
   ],
   "source": []
  }
 ],
 "metadata": {
  "kernelspec": {
   "display_name": "Python 3 (ipykernel)",
   "language": "python",
   "name": "python3"
  },
  "language_info": {
   "codemirror_mode": {
    "name": "ipython",
    "version": 3
   },
   "file_extension": ".py",
   "mimetype": "text/x-python",
   "name": "python",
   "nbconvert_exporter": "python",
   "pygments_lexer": "ipython3",
   "version": "3.9.13"
  }
 },
 "nbformat": 4,
 "nbformat_minor": 5
}
