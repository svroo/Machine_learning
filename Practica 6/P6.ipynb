{
 "cells": [
  {
   "cell_type": "markdown",
   "metadata": {},
   "source": [
    "### Especificaciones.\n",
    "\n",
    "Utilizando ambos datasets realiza lo siguiete:\n",
    "- Cargar el dataset\n",
    "- Crea un conjunto de entrenamiento del 70% de las intancias y el conjunto de pruebas con el 30% (set random_state = 0)\n",
    "- Utilizando el conjunto de entrenamiento crea un conjunto de validación con 3 pliegues\n",
    "\n",
    "Utilizando el conjunto de validación realiza lo siguiente con cada pliegue:\n",
    "- Utiliza Naive Bayes con distribución normal para entrenar y prueba el modelo en cada pliegue\n",
    "    - Determina la exactitud de cada pliegue\n",
    "    - Determina el promedio de exactitud"
   ]
  },
  {
   "cell_type": "code",
   "execution_count": 1,
   "metadata": {},
   "outputs": [],
   "source": [
    "from Modulos import k_pliegues as kp\n",
    "from Modulos import Naive_bayes as nv\n",
    "from Modulos import Multinomial as mlt"
   ]
  },
  {
   "cell_type": "code",
   "execution_count": 2,
   "metadata": {},
   "outputs": [
    {
     "name": "stdout",
     "output_type": "stream",
     "text": [
      "Terminado los 3 pliegues\n"
     ]
    }
   ],
   "source": [
    "k = 3\n",
    "path = 'pliegues_email/'\n",
    "y_test = kp.pliegues_validacion('./datasets/emails.csv', k, path, 0.7, True, 0)"
   ]
  },
  {
   "cell_type": "code",
   "execution_count": 3,
   "metadata": {},
   "outputs": [
    {
     "name": "stdout",
     "output_type": "stream",
     "text": [
      "Pliegue 1, terminado\n",
      "Pliegue 2, terminado\n",
      "Pliegue 3, terminado\n"
     ]
    }
   ],
   "source": [
    "lista_precision = nv.inicializa_gaus(path)"
   ]
  },
  {
   "cell_type": "code",
   "execution_count": 4,
   "metadata": {},
   "outputs": [
    {
     "name": "stdout",
     "output_type": "stream",
     "text": [
      "Pliegue 1, terminado\n",
      "Pliegue 2, terminado\n",
      "Pliegue 3, terminado\n"
     ]
    }
   ],
   "source": [
    "exactitud = nv.kpliegues_vs_test(path, y_test.iloc[:1034])"
   ]
  },
  {
   "cell_type": "code",
   "execution_count": 5,
   "metadata": {},
   "outputs": [
    {
     "data": {
      "text/plain": [
       "[0.9748549323017408,\n",
       " 0.9661508704061895,\n",
       " 0.988394584139265,\n",
       " 0.5899419729206963,\n",
       " 0.6141199226305609,\n",
       " 0.6295938104448743]"
      ]
     },
     "execution_count": 5,
     "metadata": {},
     "output_type": "execute_result"
    }
   ],
   "source": [
    "exactitud"
   ]
  },
  {
   "cell_type": "code",
   "execution_count": 6,
   "metadata": {},
   "outputs": [
    {
     "name": "stdout",
     "output_type": "stream",
     "text": [
      "+-----------+----------------+--------------------------------------------+---------------------------------------+\n",
      "| Dataset   | Clasificador   |  Exactitud, promedio de los tres pliegues  |  Exactitud obtenida pliegues vs test  |\n",
      "+===========+================+============================================+=======================================+\n",
      "| e_mail    | Naive Bayes    |                  0.976467                  |               0.611219                |\n",
      "+-----------+----------------+--------------------------------------------+---------------------------------------+\n"
     ]
    }
   ],
   "source": [
    "nv.get_tableau()"
   ]
  },
  {
   "cell_type": "markdown",
   "metadata": {},
   "source": [
    "- Utiliza Multinomial con distribución normal para entrenar y prueba el modelo en cada pliegue\n",
    "    - Determina la exactitud de cada pliegue\n",
    "    - Determina el promedio de exactitud de los 3 pliegues"
   ]
  },
  {
   "cell_type": "code",
   "execution_count": 7,
   "metadata": {},
   "outputs": [
    {
     "name": "stdout",
     "output_type": "stream",
     "text": [
      "Pliegue 1, terminado\n",
      "Pliegue 2, terminado\n",
      "Pliegue 3, terminado\n"
     ]
    }
   ],
   "source": [
    "lista_multi = mlt.inicia_multi(path)"
   ]
  },
  {
   "cell_type": "code",
   "execution_count": 10,
   "metadata": {},
   "outputs": [
    {
     "data": {
      "text/plain": [
       "[0.7021276595744681,\n",
       " 0.7224371373307543,\n",
       " 0.7311411992263056,\n",
       " 0.723404255319149,\n",
       " 0.6199226305609284,\n",
       " 0.6170212765957447]"
      ]
     },
     "execution_count": 10,
     "metadata": {},
     "output_type": "execute_result"
    }
   ],
   "source": [
    "lista_multi"
   ]
  },
  {
   "cell_type": "code",
   "execution_count": 8,
   "metadata": {},
   "outputs": [
    {
     "name": "stdout",
     "output_type": "stream",
     "text": [
      "Pliegue 1, terminado\n",
      "Pliegue 2, terminado\n",
      "Pliegue 3, terminado\n"
     ]
    }
   ],
   "source": [
    "lista_test_vs_pliegue = mlt.multinomial_vs_test(path, y_test.iloc[:1034])"
   ]
  },
  {
   "cell_type": "code",
   "execution_count": 11,
   "metadata": {},
   "outputs": [
    {
     "data": {
      "text/plain": [
       "[0.7021276595744681,\n",
       " 0.7224371373307543,\n",
       " 0.7311411992263056,\n",
       " 0.723404255319149,\n",
       " 0.6199226305609284,\n",
       " 0.6170212765957447]"
      ]
     },
     "execution_count": 11,
     "metadata": {},
     "output_type": "execute_result"
    }
   ],
   "source": [
    "lista_test_vs_pliegue"
   ]
  },
  {
   "cell_type": "code",
   "execution_count": 9,
   "metadata": {},
   "outputs": [
    {
     "name": "stdout",
     "output_type": "stream",
     "text": [
      "+-----------+----------------+--------------------------------------------+---------------------------------------+\n",
      "| Dataset   | Clasificador   |  Exactitud, promedio de los tres pliegues  |  Exactitud obtenida pliegues vs test  |\n",
      "+===========+================+============================================+=======================================+\n",
      "| e_mail    | multinomial    |                  0.718569                  |               0.653449                |\n",
      "+-----------+----------------+--------------------------------------------+---------------------------------------+\n"
     ]
    }
   ],
   "source": [
    "mlt.get_tableau()"
   ]
  }
 ],
 "metadata": {
  "kernelspec": {
   "display_name": "Python 3 (ipykernel)",
   "language": "python",
   "name": "python3"
  },
  "language_info": {
   "codemirror_mode": {
    "name": "ipython",
    "version": 3
   },
   "file_extension": ".py",
   "mimetype": "text/x-python",
   "name": "python",
   "nbconvert_exporter": "python",
   "pygments_lexer": "ipython3",
   "version": "3.9.12 (main, Apr  4 2022, 05:22:27) [MSC v.1916 64 bit (AMD64)]"
  },
  "vscode": {
   "interpreter": {
    "hash": "b302cdd1e032ee910f5c889c3360c28564c92ad4f326fc3102e39fbe47faee66"
   }
  }
 },
 "nbformat": 4,
 "nbformat_minor": 2
}
